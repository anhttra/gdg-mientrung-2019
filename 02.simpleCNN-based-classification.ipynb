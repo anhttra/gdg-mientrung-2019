{
 "cells": [
  {
   "cell_type": "markdown",
   "metadata": {},
   "source": [
    "##  Build a simple CNN model for classifying dog/cat  \n",
    "\n",
    "Author: Anh Trung Tra   \n",
    "Email: tratrunganh001@gmail.com"
   ]
  },
  {
   "cell_type": "code",
   "execution_count": 6,
   "metadata": {},
   "outputs": [],
   "source": [
    "import tensorflow as tf\n",
    "keras = tf.keras\n",
    "%matplotlib inline"
   ]
  },
  {
   "cell_type": "code",
   "execution_count": 32,
   "metadata": {},
   "outputs": [],
   "source": [
    "# Create a dictionary describing the features.  \n",
    "image_feature_description = {\n",
    "    'label': tf.io.FixedLenFeature([], tf.int64),\n",
    "    'image_raw': tf.io.FixedLenFeature([], tf.string),\n",
    "}\n",
    "\n",
    "def _parse_function(example_proto, size, is_augmented=True):\n",
    "    \"\"\" TODO: Update description!\n",
    "    \"\"\"\n",
    "    parsed_example = tf.io.parse_single_example(example_proto, image_feature_description)\n",
    "    image_string = parsed_example['image_raw']\n",
    "    label = parsed_example['label']\n",
    "    \n",
    "    # Don't use tf.image.decode_image, or the output shape will be undefined\n",
    "    image_decoded = tf.image.decode_jpeg(image_string, channels=3)\n",
    "    image = tf.image.convert_image_dtype(image_decoded, tf.float32) # convert to float values in [0, 1]\n",
    "    \n",
    "    if is_augmented: # augmented here!\n",
    "        image = tf.image.random_flip_left_right(image)\n",
    "        image = tf.image.random_brightness(image, max_delta=32.0 / 255.0)\n",
    "        image = tf.image.random_saturation(image, lower=0.5, upper=1.5)\n",
    "        image = tf.clip_by_value(image, 0.0, 1.0)\n",
    "        \n",
    "    # resize image to fit the input size\n",
    "    resized_image = tf.image.resize_with_pad(image, size, size)\n",
    "\n",
    "    return resized_image, label\n",
    "\n",
    "train_dataset = (tf.data.TFRecordDataset('data/PetImages/train_14898.tfrecord')\n",
    "                     .map(lambda ep: _parse_function(ep, 28, True), num_parallel_calls=4)\n",
    "                     .shuffle(1000)\n",
    "                     .repeat()\n",
    "                     .batch(64)\n",
    "                     .prefetch(1)  # make sure you always have one batch ready to serve\n",
    "                )\n",
    "\n",
    "val_dataset = (tf.data.TFRecordDataset('data/PetImages/val_4968.tfrecord')\n",
    "                     .map(lambda ep: _parse_function(ep, 28, False), num_parallel_calls=4)\n",
    "                     .batch(64)\n",
    "                     .prefetch(1)  # make sure you always have one batch ready to serve\n",
    "                )\n",
    "\n",
    "test_dataset = (tf.data.TFRecordDataset('data/PetImages/test_4958.tfrecord')\n",
    "                     .map(lambda ep: _parse_function(ep, 28, False), num_parallel_calls=4)\n",
    "                     .batch(64)\n",
    "                     .prefetch(1)  # make sure you always have one batch ready to serve\n",
    "                )"
   ]
  },
  {
   "cell_type": "code",
   "execution_count": 30,
   "metadata": {},
   "outputs": [
    {
     "name": "stdout",
     "output_type": "stream",
     "text": [
      "Model: \"sequential_11\"\n",
      "_________________________________________________________________\n",
      "Layer (type)                 Output Shape              Param #   \n",
      "=================================================================\n",
      "conv2d_18 (Conv2D)           (None, 26, 26, 16)        448       \n",
      "_________________________________________________________________\n",
      "max_pooling2d_12 (MaxPooling (None, 13, 13, 16)        0         \n",
      "_________________________________________________________________\n",
      "conv2d_19 (Conv2D)           (None, 11, 11, 32)        4640      \n",
      "_________________________________________________________________\n",
      "max_pooling2d_13 (MaxPooling (None, 5, 5, 32)          0         \n",
      "_________________________________________________________________\n",
      "conv2d_20 (Conv2D)           (None, 3, 3, 64)          18496     \n",
      "_________________________________________________________________\n",
      "max_pooling2d_14 (MaxPooling (None, 1, 1, 64)          0         \n",
      "_________________________________________________________________\n",
      "flatten_7 (Flatten)          (None, 64)                0         \n",
      "_________________________________________________________________\n",
      "dense_11 (Dense)             (None, 64)                4160      \n",
      "_________________________________________________________________\n",
      "dense_12 (Dense)             (None, 2)                 130       \n",
      "=================================================================\n",
      "Total params: 27,874\n",
      "Trainable params: 27,874\n",
      "Non-trainable params: 0\n",
      "_________________________________________________________________\n"
     ]
    }
   ],
   "source": [
    "model = keras.Sequential()\n",
    "model.add(keras.layers.Conv2D(16, kernel_size=3, activation='relu', input_shape=(28,28,3)))\n",
    "model.add(keras.layers.MaxPool2D())\n",
    "model.add(keras.layers.Conv2D(32, kernel_size=3, activation='relu'))\n",
    "model.add(keras.layers.MaxPool2D())\n",
    "model.add(keras.layers.Conv2D(64, kernel_size=3, activation='relu'))\n",
    "model.add(keras.layers.MaxPool2D())\n",
    "model.add(keras.layers.Flatten())\n",
    "model.add(keras.layers.Dense(64, activation='relu'))\n",
    "model.add(keras.layers.Dense(2, activation='softmax'))\n",
    "model.summary()\n"
   ]
  },
  {
   "cell_type": "code",
   "execution_count": 31,
   "metadata": {},
   "outputs": [
    {
     "name": "stdout",
     "output_type": "stream",
     "text": [
      "Epoch 1/10\n",
      "100/100 [==============================] - 27s 275ms/step - loss: 0.6899 - accuracy: 0.5431 - val_loss: 0.6838 - val_accuracy: 0.5352\n",
      "Epoch 2/10\n",
      "100/100 [==============================] - 23s 228ms/step - loss: 0.6624 - accuracy: 0.6047 - val_loss: 0.6426 - val_accuracy: 0.6437\n",
      "Epoch 3/10\n",
      "100/100 [==============================] - 24s 238ms/step - loss: 0.6418 - accuracy: 0.6303 - val_loss: 0.6268 - val_accuracy: 0.6564\n",
      "Epoch 4/10\n",
      "100/100 [==============================] - 24s 242ms/step - loss: 0.6251 - accuracy: 0.6509 - val_loss: 0.6219 - val_accuracy: 0.6645\n",
      "Epoch 5/10\n",
      "100/100 [==============================] - 26s 262ms/step - loss: 0.6213 - accuracy: 0.6569 - val_loss: 0.6121 - val_accuracy: 0.6787\n",
      "Epoch 6/10\n",
      "100/100 [==============================] - 26s 262ms/step - loss: 0.6055 - accuracy: 0.6716 - val_loss: 0.5946 - val_accuracy: 0.6886\n",
      "Epoch 7/10\n",
      "100/100 [==============================] - 25s 248ms/step - loss: 0.5928 - accuracy: 0.6897 - val_loss: 0.5948 - val_accuracy: 0.6808\n",
      "Epoch 8/10\n",
      "100/100 [==============================] - 25s 247ms/step - loss: 0.5709 - accuracy: 0.7052 - val_loss: 0.5681 - val_accuracy: 0.7110\n",
      "Epoch 9/10\n",
      "100/100 [==============================] - 25s 250ms/step - loss: 0.5817 - accuracy: 0.6964 - val_loss: 0.6040 - val_accuracy: 0.6713\n",
      "Epoch 10/10\n",
      "100/100 [==============================] - 25s 249ms/step - loss: 0.5646 - accuracy: 0.7103 - val_loss: 0.5611 - val_accuracy: 0.7126\n"
     ]
    },
    {
     "data": {
      "text/plain": [
       "<tensorflow.python.keras.callbacks.History at 0x7fb4f1ff7ba8>"
      ]
     },
     "execution_count": 31,
     "metadata": {},
     "output_type": "execute_result"
    }
   ],
   "source": [
    "model.compile(optimizer='adam', \n",
    "              loss='sparse_categorical_crossentropy',\n",
    "              metrics=['accuracy'])\n",
    "model.fit_generator(train_dataset, steps_per_epoch=100, epochs=10, validation_data=val_dataset)\n",
    "model.evaluate_generator(test_dataset)"
   ]
  },
  {
   "cell_type": "code",
   "execution_count": 33,
   "metadata": {},
   "outputs": [
    {
     "data": {
      "text/plain": [
       "[0.5584027171134949, 0.71762806]"
      ]
     },
     "execution_count": 33,
     "metadata": {},
     "output_type": "execute_result"
    }
   ],
   "source": []
  },
  {
   "cell_type": "code",
   "execution_count": null,
   "metadata": {},
   "outputs": [],
   "source": []
  }
 ],
 "metadata": {
  "kernelspec": {
   "display_name": "Python 3",
   "language": "python",
   "name": "python3"
  },
  "language_info": {
   "codemirror_mode": {
    "name": "ipython",
    "version": 3
   },
   "file_extension": ".py",
   "mimetype": "text/x-python",
   "name": "python",
   "nbconvert_exporter": "python",
   "pygments_lexer": "ipython3",
   "version": "3.6.3"
  }
 },
 "nbformat": 4,
 "nbformat_minor": 2
}
